{
 "cells": [
  {
   "cell_type": "markdown",
   "id": "exposed-little",
   "metadata": {},
   "source": [
    "# Question 3: Trajectory Evaluation and g2o"
   ]
  },
  {
   "cell_type": "markdown",
   "id": "hearing-bachelor",
   "metadata": {},
   "source": [
    "_Refer to the example notebooks for installation instructions_"
   ]
  },
  {
   "cell_type": "markdown",
   "id": "radio-atlantic",
   "metadata": {},
   "source": [
    "# Evo"
   ]
  },
  {
   "cell_type": "markdown",
   "id": "recognized-booking",
   "metadata": {},
   "source": [
    "So you've implemented 2D SLAM, great! Now, what? We need a measure of how good the trajectory is. The error/loss used earlier doesn't tell us much about how the trajectory differs from the ground truth. Here, we try to do just this - compute error metrics. Rather than computing these from scratch, we will just Evo - https://github.com/MichaelGrupp/evo/."
   ]
  },
  {
   "cell_type": "markdown",
   "id": "amino-command",
   "metadata": {},
   "source": [
    "Look at the absolute pose error (APE) and relative pose error (RPE). What do they capture and how are they calculated (descriptive answer)? How do these metrics differ in methodology? Can we determine if the error is more along the x/y axis?\n",
    "\n",
    "Answer the above questions and report errors for the obtained trajectory."
   ]
  },
  {
   "cell_type": "markdown",
   "id": "7750fb5c-15df-4ba0-a64f-01a88b505958",
   "metadata": {},
   "source": [
    "### Definitions\n",
    "\n",
    "$$\n",
    "Q -> \\text {Ground Truth} \\\\\n",
    "P -> \\text {Estimated Truth} \\\\\n",
    "\\text{trans(M)} = \\text{Translation part of transformation matrix M} \\\\\n",
    "\\text{rot(M) = Rotation part of transformation matrix M} \\\\\n",
    "\\text{angle(R)} = \\text{arccos}(\\frac{tr(R) - 1}{2})\n",
    "$$\n",
    "**APE**: Absolute pose error or absolute trajectory error refers to absolute distances between estimated and ground truth trajectory per frame, it also gives an idea of global consistency. \n",
    "To calculate it, we first align both the trajectories using Horn Method and then calculated from the error matrices:\n",
    "\n",
    "$$\n",
    "E_i = Q_i^{-1}P_i \\\\\n",
    "ATE_{rmse} = (\\frac{1}{n} \\Sigma_{i=1}^{n} ||trans(E_i)||^2)\n",
    "$$\n",
    "\n",
    "**RPE**: Relative pose error compares motions (basically pose deltas). This gives insight in local accuracy (drift). It basically calculates accuracy of the trajectory over a fixed time interval $\\Delta$. It is calculated differently for translation and rot, and we then take average of both\n",
    "\n",
    "$$\n",
    "F_i^{\\Delta} = (Q_i^{-1}Q_{i+\\Delta})^{-1}(P_i^{-1}P_{i+\\Delta}) \\\\\n",
    "RPE_{trans}^{i,\\Delta} = (\\frac{1}{m}\\Sigma_{i=1}^{m} ||trans(F_i)||^2)^{\\frac{1}{2}} \\\\\n",
    "RPE_{rot}^{i,\\Delta} = (\\frac{1}{m}\\Sigma_{i=1}^{m} angle(rot(F_i^{\\Delta})) \\\\\n",
    "$$\n",
    "\n",
    "\n",
    "\n",
    "### APE\n",
    "Plots saved in [APE](../data/plot_ape.pdf)\n",
    "```\n",
    "rmse: 6.167280360266945,\n",
    "mean: 5.298043556023629,\n",
    "median: 5.648310275889905,\n",
    "std: 3.156910122352373,\n",
    "min: 8.881784197001252e-16,\n",
    "max: 10.201728831418777,\n",
    "sse: 4564.241645056125\n",
    "```\n",
    "\n",
    "\n",
    "### RPE\n",
    "Plots saved in [RPE](../data/plot_rpe.pdf)\n",
    "```\n",
    "rmse: 0.1320790970591048,\n",
    "mean: 0.11721059292688371\n",
    "median: 0.11408982485173319\n",
    "std: 0.060881563594217744\n",
    "min: 0.005641392567528647\n",
    "max: 0.2870073051110084\n",
    "sse: 2.0759416577138627\n",
    "```"
   ]
  },
  {
   "cell_type": "markdown",
   "id": "surrounded-anderson",
   "metadata": {},
   "source": [
    "If you're interested, play around with this tool and add any other plots that you think might be relevant/interesting."
   ]
  },
  {
   "cell_type": "markdown",
   "id": "exceptional-charity",
   "metadata": {},
   "source": [
    "# g2o"
   ]
  },
  {
   "cell_type": "markdown",
   "id": "presidential-hayes",
   "metadata": {},
   "source": [
    "Install g2o as mentioned in `examples/g2o.ipynb` and optimise `edges.txt`, the file you used earlier. Also use `g2o_viewer` and optimize `intel` (a trajectory in the Intel research lab) and `sphere`. They should look something like:\n",
    "\n",
    "\n",
    "<table><tr>\n",
    "<td> <img src=\"../misc/intel.jpg\" alt=\"Drawing\" style=\"width: 250px;\"/> </td>\n",
    "<td> <img src=\"../misc/sphere.jpg\" alt=\"Drawing\" style=\"width: 250px;\"/> </td>\n",
    "</tr></table>"
   ]
  },
  {
   "cell_type": "markdown",
   "id": "amino-football",
   "metadata": {},
   "source": [
    "Write briefly about your observations and try out few options in the GUI. What do they do, how do they perform?"
   ]
  },
  {
   "cell_type": "markdown",
   "id": "e6b7f7eb-6bd6-4d61-902d-708094c2c4b6",
   "metadata": {},
   "source": [
    "GUI was quite intuitive, there were various options. We could reload the initial model, change the optmizer, change parameter of optmizer, number of iterations. There were options to all the things. \n",
    "There was even an option to change how to calculate initial pose using (Odometery, Spanning Tree) and calculate the initial guess be clicking the initial guess. After initial guess is calculated we can click on optimize to optimize the pose graph using specied algorithm and parameters. \n",
    "\n",
    "#### Intel\n",
    "It was quite quick to converge, we were able to get good enough output in just 10 iterations\n",
    "\n",
    "\n",
    "<img src=\"./misc/intel_init.png\" alt=\"drawing\" width=\"300\"/> <br>\n",
    "<img src=\"./misc/intel_final.png\" alt=\"drawing\" width=\"300\"/> <br>\n",
    "\n",
    "#### Sphere\n",
    "If I directly clicked optmize it took a lot of iterations (>1000) to get a good shape. But if I first clicked initial guess (Using spaaning tree), then it was in quite a good shape in about 20-30 iterations\n",
    "\n",
    "\n",
    "<img src=\"./misc/sphere_init.png\" alt=\"drawing\" width=\"300\"/> <br>\n",
    "<img src=\"./misc/sphere_final.png\" alt=\"drawing\" width=\"300\"/> <br>\n",
    "\n",
    "#### Edges.txt\n",
    "When i tried with `g2o_viewer edges.txt` it did not show anything and told that the graph was empty. So, I loaded using our initialization, `g2o_viewer noisy.g2o` we were able to get close to gt trajectory in 10 iterations. \n",
    "\n",
    "<img src=\"./misc/1000_700_20_g2o.png\" alt=\"drawing\" width=\"300\"/> <br>\n",
    "\n"
   ]
  },
  {
   "cell_type": "code",
   "execution_count": 1,
   "id": "98c8c52b-61dc-4c60-bd5a-6a55432c8d8b",
   "metadata": {},
   "outputs": [],
   "source": []
  },
  {
   "cell_type": "code",
   "execution_count": null,
   "id": "4eb21c10-821f-4dcf-8272-eab8af2f3aed",
   "metadata": {},
   "outputs": [],
   "source": []
  }
 ],
 "metadata": {
  "kernelspec": {
   "display_name": "Python 3 (ipykernel)",
   "language": "python",
   "name": "python3"
  },
  "language_info": {
   "codemirror_mode": {
    "name": "ipython",
    "version": 3
   },
   "file_extension": ".py",
   "mimetype": "text/x-python",
   "name": "python",
   "nbconvert_exporter": "python",
   "pygments_lexer": "ipython3",
   "version": "3.8.12"
  }
 },
 "nbformat": 4,
 "nbformat_minor": 5
}
