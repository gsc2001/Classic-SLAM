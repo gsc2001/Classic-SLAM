{
 "cells": [
  {
   "cell_type": "markdown",
   "source": [
    "###### Question 2:  Pose Graph Optimization for 2D SLAM"
   ],
   "metadata": {}
  },
  {
   "cell_type": "markdown",
   "source": [
    "## Objective\n",
    "A robot is travelling in a oval trajectory. It is equipped with wheel odometry for odometry information and RGBD sensors for loop closure information. Due to noise in wheel odometry it generates a noisy estimate of the trajectory. Our task is to use loop closure pairs to correct the drift.\n",
    "\n",
    "We pose this problem as a graph optimization problem. In our graph, poses are the vertices and constraints are the edges. "
   ],
   "metadata": {}
  },
  {
   "cell_type": "markdown",
   "source": [
    "## Given: \n",
    "In practical scenarios, we'd obtain the following from our sensors after some post-processing:\n",
    "\n",
    "1. Initial position\n",
    "2. Odometry Contraints/Edges: This \"edge\" information tells us relative transformation between two nodes. These two nodes are consecutive in the case of Odometry but not in the case of Loop Closure (next point).\n",
    "3. Loop Closure Contraints/Edges: Remember that while optimizing, you have another kind of \"anchor\" edge as you've seen in 1. solved example.\n",
    "\n",
    "You have been given a text file named `edges.txt` (in `data/`) which has all the above 3 and it follows G2O's format (as explained in class, [link here](https://saishubodh.notion.site/G2O-Edge-Types-d9f9ff63c77c4ceeb84b1e49085004e3) ). The ground truth is `gt.txt`."
   ],
   "metadata": {}
  },
  {
   "cell_type": "markdown",
   "source": [
    "## Steps:\n",
    "\n",
    "### Part 1\n",
    "\n",
    "Using the following motion model, you have to first generate the \"initialization\" for all the poses/vertices using the \"Given\" information. Just like in the 1D case.\n",
    "$$x_{k+1} = x_{k} + \\Delta x_{(k,k+1)} \\cos(\\theta_k) - \\Delta y_{(k,k+1)} \\sin(\\theta_k) \\\\\n",
    "y_{k+1} = y_{k} + \\Delta y_{(k,k+1)} \\cos(\\theta_k) + \\Delta x_{(k,k+1)} \\sin(\\theta_k) \\\\\n",
    "\\theta_{k+1} = \\theta_{k}+  \\Delta \\theta_{(k,k+1)} \\tag{3}$$\n",
    "\n",
    "Even the loop closure nodes are related by the above model, except that it need not necessarily be consecutive notes k and k+1.\n",
    "\n",
    "Save this initial trajectory as `edges-poses.g2o`.\n",
    "\n",
    "If you plot the initialized poses using odometry information, you need to get as the right plot below (this is the \"noisy trajectory\"): (Left one is the ground truth)\n",
    "![robot-poses-MR-P1.png](../misc/robot-poses-MR-P1.png)\n",
    "\n",
    "(Use `draw()` helper function or `g2o_viewer` or `EVO`)"
   ],
   "metadata": {}
  },
  {
   "cell_type": "code",
   "execution_count": 17,
   "source": [
    "import numpy as np\n",
    "import matplotlib.pyplot as plt\n",
    "import math\n",
    "from jax import numpy as jnp, jacfwd\n",
    "%load_ext autoreload\n",
    "%autoreload 2\n"
   ],
   "outputs": [
    {
     "output_type": "stream",
     "name": "stdout",
     "text": [
      "The autoreload extension is already loaded. To reload it, use:\n",
      "  %reload_ext autoreload\n"
     ]
    }
   ],
   "metadata": {}
  },
  {
   "cell_type": "code",
   "execution_count": 18,
   "source": [
    " \n",
    "def draw(X, Y, THETA):\n",
    "    ax = plt.subplot(111)\n",
    "    ax.plot(X, Y, 'ro')\n",
    "    plt.plot(X, Y, 'c-')\n",
    "\n",
    "    for i in range(len(THETA)):\n",
    "        x2 = 0.25 * np.cos(THETA[i]) + X[i]\n",
    "        y2 = 0.25 * np.sin(THETA[i]) + Y[i]\n",
    "        plt.plot([X[i], x2], [Y[i], y2], 'g->')\n",
    "\n",
    "    plt.plot()\n",
    "\n",
    "data_file = open('../data/edges.txt')\n",
    "data = data_file.readlines()\n",
    " \n",
    "initial = data[0].split(' ')\n",
    " \n",
    "X = [float(initial[2])]\n",
    "Y = [float(initial[3])]\n",
    "THETA = [float(initial[4])]\n",
    " \n",
    "for i in range(1, len(data)):\n",
    "    line = data[i].split(' ')\n",
    " \n",
    "    if line[0] == \"FIX\":\n",
    "        break\n",
    " \n",
    "    dx = float(line[3])\n",
    "    dy = float(line[4])\n",
    "    dtheta = float(line[5])\n",
    " \n",
    "    X.append(X[-1] + dx * math.cos(THETA[-1]) - dy * math.sin(THETA[-1]))\n",
    "    Y.append(Y[-1] + dy * math.cos(THETA[-1]) + dx * math.sin(THETA[-1]))\n",
    "    THETA.append(THETA[-1] + dtheta)\n",
    " \n",
    "draw(X, Y, THETA)"
   ],
   "outputs": [
    {
     "output_type": "display_data",
     "data": {
      "image/png": "[encoded data removed]",
      "text/plain": [
       "<Figure size 432x288 with 1 Axes>"
      ]
     },
     "metadata": {
      "needs_background": "light"
     }
    }
   ],
   "metadata": {}
  },
  {
   "cell_type": "markdown",
   "source": [
    "## Part 2\n",
    "\n",
    "Now calculate the residual and the Jacobian and update your parameters using LM.\n",
    "\n",
    "Use LM algorithm. Regarding Jacobian calculation, you can use `jax`'s `jacobian` as part of your main code. However, you still have to separately calculate it analytically and verify if it matches with `jax`'s `jacobian` using frobenius norm `frobNorm()`). Calculation and verification is compulsory, but it is your choice to use whichever as part of your optimization. Use whichever is faster. You can also visualise your Jacobian and see the structure of the matrix (just use `plt.imshow`).\n",
    "\n",
    "**Regarding LM iterations, stopping criterion, information matrix values.**\n",
    "\n",
    "1. As your iterations proceed, you have to print relevant information (iteration number and error value: [$F = \\frac{1}{2}  \\mathbf{f}^{\\top} \\mathbf{\\Omega} \\mathbf{f} $ (notes on non-linear LS)](https://saishubodh.notion.site/From-linear-algebra-to-non-linear-weighted-least-squares-optimization-13cf17d318be4d45bb8577c4d3ea4a02#32832dee7d6c4ab49581463d9b784f21) at every step).\n",
    "\n",
    "2. You have to show the plots (ground truth, noisy & optimized: all 3 in a single plot) at every 10 steps or so.\n",
    "\n",
    "3. You could start with information values of 500 for odom edges, 700 for loop closure edges, 1000 for anchor edge (same for all dimensions). However, you have to _heavily_ experiment with these values. (Given that you somehow know loop closure information is way more reliable than odometry.). At the end of your experimentation, your error $F = \\frac{1}{2}  \\mathbf{f}^{\\top} \\mathbf{\\Omega} \\mathbf{f} $ should by < 40. Explain your experimentation in detail using tables/plots etc if necessary.\n",
    "    \n",
    "Do not worry if you're not getting a perfect trajectory. Our parametrization was oversimplified for the sake of this project. With that being said, it is possible to get the error down to < 40 and make it at least look like an oval shaped trajectory, even if it doesn't perfectly resemble the ground truth. However, using `g2o` (seen later on), you will be getting a close to ground truth trajectory."
   ],
   "metadata": {}
  },
  {
   "cell_type": "markdown",
   "source": [
    "**Tip**\n",
    "\n",
    "Be sure to make your code modular and implement this in various stages. It will help you debug errors. Feel free to create helper functions in other files, just be sure to submit those as well. \n",
    "\n",
    "You are free to optimise your code using numba/Jax/torch if you wish, just ensure that you are not using any built in functions for any of the steps. It is only compulsory to verify your Jacobian using Jax."
   ],
   "metadata": {}
  },
  {
   "cell_type": "code",
   "execution_count": 19,
   "source": [
    "get_next_pose = lambda initial, change: jnp.array(\n",
    "    [\n",
    "        initial[0] + change[0] * jnp.cos(initial[2]) - change[1] * jnp.sin(initial[2]),\n",
    "        initial[1] + change[1] * jnp.cos(initial[2]) + change[0] * jnp.sin(initial[2]),\n",
    "        initial[2] + change[2],\n",
    "    ]\n",
    ")\n"
   ],
   "outputs": [],
   "metadata": {}
  },
  {
   "cell_type": "code",
   "execution_count": 20,
   "source": [
    "# Data loading\n",
    "\n",
    "initial_poses = []\n",
    "od_constraints = []\n",
    "loop_constraints = []\n",
    " \n",
    "data_file = open(\"../data/noisy.g2o\")\n",
    " \n",
    "for line in data_file.readlines():\n",
    "    params = line[:-1].split(\" \")\n",
    " \n",
    "    if len(params) < 5:\n",
    "        continue\n",
    " \n",
    "    if params[0] == \"VERTEX_SE2\":\n",
    "        initial_poses.append(np.array([float(params[2]), float(params[3]), float(params[4])]))\n",
    "        # n * 3\n",
    "    else:\n",
    "        pose_start = int(params[1])\n",
    "        pose_end = int(params[2])\n",
    " \n",
    "        formatted_params = [\n",
    "            [\n",
    "                pose_start,\n",
    "                pose_end,\n",
    "            ],\n",
    "            [\n",
    "                float(params[3]),\n",
    "                float(params[4]),\n",
    "                float(params[5]),\n",
    "            ],\n",
    "        ]\n",
    " \n",
    "        if pose_end == pose_start + 1:\n",
    "            od_constraints.append(formatted_params)\n",
    "        else:\n",
    "            loop_constraints.append(formatted_params)\n",
    " \n",
    "initial_poses = np.array(initial_poses)\n"
   ],
   "outputs": [],
   "metadata": {}
  },
  {
   "cell_type": "code",
   "execution_count": 21,
   "source": [
    "constraints = []\n",
    "constraints.extend(od_constraints)\n",
    "constraints.extend(loop_constraints)"
   ],
   "outputs": [],
   "metadata": {}
  },
  {
   "cell_type": "code",
   "execution_count": 22,
   "source": [
    "n_poses = initial_poses.shape[0]\n",
    "n_constraints = len(constraints)"
   ],
   "outputs": [],
   "metadata": {}
  },
  {
   "cell_type": "code",
   "execution_count": 25,
   "source": [
    "def f(state):\n",
    "    poses = state.reshape(-1,3)\n",
    "    fixed_pose = initial_poses[0]\n",
    "    f = []\n",
    " \n",
    "    for constraint in constraints:\n",
    "        pose_start = constraint[0][0]\n",
    "        pose_end = constraint[0][1]\n",
    " \n",
    "        diff = get_next_pose(poses[pose_start], constraint[1]) - poses[pose_end]\n",
    "        f.extend(diff)\n",
    " \n",
    "    # initial position\n",
    "    f.extend(poses[0] - fixed_pose)\n",
    "    f = jnp.array(f)\n",
    "    return f\n",
    " \n",
    "f_initial = f(initial_poses)\n",
    "print(f_initial.shape)\n"
   ],
   "outputs": [
    {
     "output_type": "stream",
     "name": "stdout",
     "text": [
      "(420,)\n"
     ]
    }
   ],
   "metadata": {}
  },
  {
   "cell_type": "code",
   "execution_count": 30,
   "source": [
    "jac_jax = jacfwd(f)\n",
    "J_jax = jac_jax(initial_poses.reshape(-1))"
   ],
   "outputs": [],
   "metadata": {}
  },
  {
   "cell_type": "code",
   "execution_count": 28,
   "source": [],
   "outputs": [
    {
     "output_type": "execute_result",
     "data": {
      "text/plain": [
       "DeviceArray([[1.  , 0.  , 0.  , ..., 0.  , 0.  , 0.  ],\n",
       "             [0.  , 1.  , 0.45, ..., 0.  , 0.  , 0.  ],\n",
       "             [0.  , 0.  , 1.  , ..., 0.  , 0.  , 0.  ],\n",
       "             ...,\n",
       "             [1.  , 0.  , 0.  , ..., 0.  , 0.  , 0.  ],\n",
       "             [0.  , 1.  , 0.  , ..., 0.  , 0.  , 0.  ],\n",
       "             [0.  , 0.  , 1.  , ..., 0.  , 0.  , 0.  ]], dtype=float32)"
      ]
     },
     "metadata": {},
     "execution_count": 28
    }
   ],
   "metadata": {}
  },
  {
   "cell_type": "code",
   "execution_count": 10,
   "source": [
    "state_vector = initial_poses.reshape(-1,1)"
   ],
   "outputs": [],
   "metadata": {}
  },
  {
   "cell_type": "code",
   "execution_count": 11,
   "source": [
    "j_shape = (f_initial.shape[0], state_vector.shape[0])"
   ],
   "outputs": [],
   "metadata": {}
  },
  {
   "cell_type": "code",
   "execution_count": 32,
   "source": [
    "def jac(state:np.ndarray):\n",
    "    J = np.zeros(j_shape)\n",
    "    for i, constraint in enumerate(constraints):\n",
    "        pose_start = constraint[0][0]\n",
    "        pose_end = constraint[0][1]\n",
    "        theta_start = state[3*pose_start+2]\n",
    "        \n",
    "        # x constraint\n",
    "        J[3*i, 3 * pose_start] = 1 \n",
    "        J[3*i, 3 * pose_end] = -1 \n",
    "        J[3*i, 3 * pose_start + 2] = -constraint[1][0]*np.sin(theta_start) - constraint[1][1]*np.cos(theta_start) \n",
    "        \n",
    "        # y constraint\n",
    "        J[3*i + 1, 3 * pose_start + 1] = 1 \n",
    "        J[3*i + 1, 3 * pose_end + 1] = -1 \n",
    "        J[3*i + 1, 3 * pose_start + 2] = -constraint[1][1]*np.sin(theta_start) + constraint[1][0]*np.cos(theta_start) \n",
    "        \n",
    "        # theta constraint\n",
    "        J[3*i+2,3*pose_start+2] = 1\n",
    "        J[3*i+2,3*pose_end+2] = -1\n",
    "    \n",
    "    # fixed poses\n",
    "    J[-3,0] = 1\n",
    "    J[-2,1] = 1\n",
    "    J[-1,2] = 1\n",
    "    return J"
   ],
   "outputs": [],
   "metadata": {}
  },
  {
   "cell_type": "code",
   "execution_count": 40,
   "source": [
    "J_jax = jac_jax(initial_poses.reshape(-1))\n",
    "J = jac(initial_poses.reshape(-1))"
   ],
   "outputs": [],
   "metadata": {}
  },
  {
   "cell_type": "code",
   "execution_count": 35,
   "source": [
    "J_jax"
   ],
   "outputs": [
    {
     "output_type": "execute_result",
     "data": {
      "text/plain": [
       "DeviceArray([[1.  , 0.  , 0.  , ..., 0.  , 0.  , 0.  ],\n",
       "             [0.  , 1.  , 0.45, ..., 0.  , 0.  , 0.  ],\n",
       "             [0.  , 0.  , 1.  , ..., 0.  , 0.  , 0.  ],\n",
       "             ...,\n",
       "             [1.  , 0.  , 0.  , ..., 0.  , 0.  , 0.  ],\n",
       "             [0.  , 1.  , 0.  , ..., 0.  , 0.  , 0.  ],\n",
       "             [0.  , 0.  , 1.  , ..., 0.  , 0.  , 0.  ]], dtype=float32)"
      ]
     },
     "metadata": {},
     "execution_count": 35
    }
   ],
   "metadata": {}
  },
  {
   "cell_type": "code",
   "execution_count": 36,
   "source": [
    "def frobNorm(P1, P2, str1=\"mat1\", str2=\"mat2\"):\n",
    "    jnp.set_printoptions(suppress=True)\n",
    "    val = jnp.linalg.norm(P1 - P2, 'fro')\n",
    "    print(f\"Frobenius norm between {str1} and {str2} is: {val}\")"
   ],
   "outputs": [],
   "metadata": {}
  },
  {
   "cell_type": "code",
   "execution_count": 39,
   "source": [
    "frobNorm(J, J_jax)"
   ],
   "outputs": [
    {
     "output_type": "stream",
     "name": "stdout",
     "text": [
      "Frobenius norm between mat1 and mat2 is: 29.645761489868164\n"
     ]
    }
   ],
   "metadata": {}
  },
  {
   "cell_type": "code",
   "execution_count": 38,
   "source": [
    "J = np.zeros(J.shape)"
   ],
   "outputs": [],
   "metadata": {}
  },
  {
   "cell_type": "code",
   "execution_count": null,
   "source": [],
   "outputs": [],
   "metadata": {}
  },
  {
   "cell_type": "code",
   "execution_count": null,
   "source": [],
   "outputs": [],
   "metadata": {}
  },
  {
   "cell_type": "code",
   "execution_count": 13,
   "source": [
    "J = jac(state_vector)"
   ],
   "outputs": [],
   "metadata": {}
  },
  {
   "cell_type": "code",
   "execution_count": 14,
   "source": [
    "info_mat = np.eye(f_initial.shape[0])"
   ],
   "outputs": [],
   "metadata": {}
  },
  {
   "cell_type": "code",
   "execution_count": 15,
   "source": [
    "od_info = 500\n",
    "loop_info= 700\n",
    "fix_info = 1000\n",
    "\n",
    "n_od = 3*len(od_constraints)\n",
    "n_loop = 3*len(loop_constraints)\n",
    "\n",
    "info_mat[:n_od,:n_od] = od_info*np.eye(n_od)\n",
    "info_mat[n_od:n_od + n_loop,n_od:n_od+ n_loop] = loop_info*np.eye(n_loop)\n",
    "info_mat[-3:,-3:] = fix_info*np.eye(3)"
   ],
   "outputs": [],
   "metadata": {}
  },
  {
   "cell_type": "code",
   "execution_count": 16,
   "source": [
    "from optimizer import Optimizer"
   ],
   "outputs": [],
   "metadata": {}
  },
  {
   "cell_type": "code",
   "execution_count": 81,
   "source": [],
   "outputs": [
    {
     "output_type": "stream",
     "name": "stdout",
     "text": [
      "INFO: Using ALGO: LM\n",
      "INFO Initial Error: 639371.6381937417\n"
     ]
    }
   ],
   "metadata": {}
  },
  {
   "cell_type": "code",
   "execution_count": null,
   "source": [],
   "outputs": [],
   "metadata": {}
  },
  {
   "cell_type": "code",
   "execution_count": null,
   "source": [
    "# 500 -> 444\n",
    "# 200 -> 185\n",
    "# 50 -> 47\n",
    "# 10, 700, 1000 -> 9"
   ],
   "outputs": [],
   "metadata": {}
  },
  {
   "cell_type": "code",
   "execution_count": 63,
   "source": [
    "final_vector = solver.get_current()"
   ],
   "outputs": [],
   "metadata": {}
  },
  {
   "cell_type": "code",
   "execution_count": 64,
   "source": [
    "poses = final_vector.reshape(-1,3)"
   ],
   "outputs": [],
   "metadata": {}
  },
  {
   "cell_type": "code",
   "execution_count": 65,
   "source": [
    "draw(poses[:,0], poses[:, 1], poses[:,2])"
   ],
   "outputs": [
    {
     "output_type": "display_data",
     "data": {
      "image/png": "[encoded data removed]",
      "text/plain": [
       "<Figure size 432x288 with 1 Axes>"
      ]
     },
     "metadata": {
      "needs_background": "light"
     }
    }
   ],
   "metadata": {}
  },
  {
   "cell_type": "code",
   "execution_count": null,
   "source": [
    "# final plots\n",
    "# losses vs iteration"
   ],
   "outputs": [],
   "metadata": {}
  },
  {
   "cell_type": "code",
   "execution_count": 84,
   "source": [
    "poses"
   ],
   "outputs": [
    {
     "output_type": "execute_result",
     "data": {
      "text/plain": [
       "array([[-5.00000000e+00, -8.00000000e+00,  0.00000000e+00],\n",
       "       [-4.55000000e+00, -8.00000000e+00,  0.00000000e+00],\n",
       "       [-4.10000000e+00, -8.00000000e+00,  0.00000000e+00],\n",
       "       [-3.65000000e+00, -8.00000000e+00,  0.00000000e+00],\n",
       "       [-3.20000000e+00, -8.00000000e+00,  0.00000000e+00],\n",
       "       [-2.57359477e+00, -7.95998428e+00,  9.78737984e-02],\n",
       "       [-1.92098085e+00, -7.70825186e+00,  1.46010423e-04],\n",
       "       [-1.37596980e+00, -7.72330800e+00, -1.01758748e-02],\n",
       "       [-8.84788799e-01, -7.71390127e+00,  1.35251476e-01],\n",
       "       [-3.65130353e-01, -7.63090532e+00,  1.79637799e-01],\n",
       "       [ 8.37637687e-02, -7.39753680e+00,  1.59121973e-01],\n",
       "       [ 5.72523350e-01, -7.40560368e+00, -9.61770087e-02],\n",
       "       [ 1.09380457e+00, -7.36904914e+00, -1.70393511e-01],\n",
       "       [ 1.73631445e+00, -7.62717436e+00, -1.65817659e-01],\n",
       "       [ 2.18698036e+00, -7.54718568e+00, -1.88817821e-02],\n",
       "       [ 2.65310612e+00, -7.51816501e+00, -1.07660357e-01],\n",
       "       [ 2.89982951e+00, -7.57982427e+00, -9.20254599e-02],\n",
       "       [ 3.48148323e+00, -7.51275392e+00, -1.30758142e-01],\n",
       "       [ 3.88399787e+00, -7.67144613e+00, -2.72759935e-01],\n",
       "       [ 4.20559474e+00, -7.55884079e+00, -3.23725154e-01],\n",
       "       [ 4.12421133e+00, -7.66367777e+00, -2.45976118e-01],\n",
       "       [ 4.36990250e+00, -7.71214036e+00, -2.52849283e-01],\n",
       "       [ 4.80590108e+00, -7.80735892e+00, -2.05565520e-01],\n",
       "       [ 5.22444818e+00, -7.78145392e+00, -3.35668158e-02],\n",
       "       [ 5.66186624e+00, -7.79161126e+00,  9.55060493e-02],\n",
       "       [ 5.99728395e+00, -7.72732731e+00,  1.79538403e-01],\n",
       "       [ 6.21284506e+00, -7.60110128e+00,  3.04707291e-01],\n",
       "       [ 6.41156613e+00, -7.41884785e+00,  3.79324436e-01],\n",
       "       [ 6.74254328e+00, -7.13526093e+00,  5.57569709e-01],\n",
       "       [ 7.21418689e+00, -6.90659067e+00,  7.63150855e-01],\n",
       "       [ 7.47222856e+00, -6.68623897e+00, -2.27097978e+00],\n",
       "       [ 7.70705240e+00, -6.31079634e+00, -2.22214779e+00],\n",
       "       [ 7.88233398e+00, -6.04558141e+00, -2.21042517e+00],\n",
       "       [ 8.13418084e+00, -5.91083009e+00, -1.92720023e+00],\n",
       "       [ 8.11851986e+00, -5.45122536e+00, -1.65640808e+00],\n",
       "       [ 8.21087656e+00, -5.00992323e+00, -1.47023360e+00],\n",
       "       [ 8.14763402e+00, -4.70513105e+00, -1.23422930e+00],\n",
       "       [ 8.11790161e+00, -4.28517258e+00, -1.05619111e+00],\n",
       "       [ 8.04200178e+00, -3.90640857e+00, -1.02562003e+00],\n",
       "       [ 7.78970144e+00, -3.43452339e+00, -9.77585393e-01],\n",
       "       [ 7.86405975e+00, -3.61880112e+00, -4.11125004e+00],\n",
       "       [ 7.35041366e+00, -3.13160691e+00, -7.06608679e+00],\n",
       "       [ 6.99945983e+00, -2.90389391e+00, -6.87508030e+00],\n",
       "       [ 6.60704801e+00, -2.54337911e+00, -6.78035510e+00],\n",
       "       [ 6.18324355e+00, -2.24354247e+00, -6.68813444e+00],\n",
       "       [ 5.71496713e+00, -2.16243498e+00, -6.65831062e+00],\n",
       "       [ 5.34770319e+00, -2.09246463e+00, -6.67327407e+00],\n",
       "       [ 4.91534131e+00, -1.71474793e+00, -6.60604460e+00],\n",
       "       [ 4.45538832e+00, -1.64204977e+00, -6.55211968e+00],\n",
       "       [ 3.90919743e+00, -1.48821169e+00, -6.61570428e+00],\n",
       "       [ 3.51934529e+00, -1.29257894e+00, -6.63653416e+00],\n",
       "       [ 3.04956535e+00, -1.23581470e+00, -6.78565992e+00],\n",
       "       [ 2.65790353e+00, -1.00157059e+00, -6.72215678e+00],\n",
       "       [ 2.46116980e+00, -8.04858700e-01, -6.81343900e+00],\n",
       "       [ 2.05964072e+00, -7.21996482e-01, -6.85959746e+00],\n",
       "       [ 1.72808793e+00, -3.02116847e-01, -6.93407294e+00],\n",
       "       [ 1.25860260e+00,  4.30705135e-02, -7.00042077e+00],\n",
       "       [ 8.95711604e-01,  2.16281772e-01, -7.11516763e+00],\n",
       "       [ 4.92704555e-01,  5.84744184e-01, -6.92221443e+00],\n",
       "       [ 1.72796315e-01,  8.33354901e-01, -7.04475798e+00],\n",
       "       [ 1.64886313e-01,  7.02697993e-01, -8.77003142e+00],\n",
       "       [-1.98776635e-01,  9.23065649e-01, -7.02447572e+00],\n",
       "       [-4.77549965e-01,  1.19861289e+00, -6.92423130e+00],\n",
       "       [-9.01415946e-01,  1.51174572e+00, -6.83922528e+00],\n",
       "       [-1.38108159e+00,  1.67298415e+00, -6.67213038e+00],\n",
       "       [-1.88469963e+00,  1.65440025e+00, -6.57114524e+00],\n",
       "       [-2.50631752e+00,  1.83001266e+00, -6.56600402e+00],\n",
       "       [-3.03736583e+00,  1.91616914e+00, -6.47461334e+00],\n",
       "       [-3.33974750e+00,  1.77108575e+00, -6.28256127e+00],\n",
       "       [-3.76711467e+00,  1.58333069e+00, -6.06488663e+00],\n",
       "       [-4.19877374e+00,  1.49423223e+00, -8.95878188e+00],\n",
       "       [-4.67861689e+00,  1.02418130e+00, -8.83035308e+00],\n",
       "       [-4.90852173e+00,  6.50723199e-01, -8.59947973e+00],\n",
       "       [-5.30613279e+00,  3.54221746e-01, -8.43656536e+00],\n",
       "       [-5.41616599e+00,  7.87535046e-03, -8.28103342e+00],\n",
       "       [-5.53609263e+00, -5.02898361e-01, -8.03705364e+00],\n",
       "       [-5.62807874e+00, -8.69187276e-01, -7.91271163e+00],\n",
       "       [-5.54443304e+00, -1.29668795e+00, -7.52143375e+00],\n",
       "       [-5.43109216e+00, -1.70117836e+00, -7.39068495e+00],\n",
       "       [-5.15622235e+00, -1.98550841e+00, -7.37941767e+00],\n",
       "       [-5.13941046e+00, -1.98398394e+00, -7.27352607e+00],\n",
       "       [-4.89044017e+00, -2.40700044e+00, -7.41593216e+00],\n",
       "       [-4.72723035e+00, -2.88342252e+00, -7.37432716e+00],\n",
       "       [-4.45747071e+00, -3.23273606e+00, -7.22487870e+00],\n",
       "       [-4.22117649e+00, -3.48498997e+00, -7.15718790e+00],\n",
       "       [-3.93958256e+00, -3.88339716e+00, -7.17047596e+00],\n",
       "       [-3.63501495e+00, -4.30627216e+00, -7.33807634e+00],\n",
       "       [-3.21293021e+00, -4.83166286e+00, -7.41941276e+00],\n",
       "       [-2.99584558e+00, -5.17559116e+00, -7.47699156e+00],\n",
       "       [-2.81784240e+00, -5.71192215e+00, -7.40783769e+00],\n",
       "       [-2.61600250e+00, -6.30207021e+00, -7.54617408e+00],\n",
       "       [-2.43915814e+00, -6.65687356e+00, -7.66506001e+00],\n",
       "       [-2.40395664e+00, -7.15850649e+00, -7.67031674e+00],\n",
       "       [-2.32031063e+00, -7.50543693e+00, -7.61792763e+00],\n",
       "       [-2.21984186e+00, -8.05605217e+00, -7.60818762e+00],\n",
       "       [-2.34522849e+00, -8.69569143e+00, -7.41259639e+00],\n",
       "       [-2.15259643e+00, -9.25612095e+00, -7.45169172e+00],\n",
       "       [-1.92860907e+00, -9.81219098e+00, -7.65476017e+00],\n",
       "       [-1.78973845e+00, -1.05558661e+01, -7.55274290e+00],\n",
       "       [-1.50036559e+00, -1.09694259e+01, -7.52410853e+00],\n",
       "       [-1.57953343e+00, -1.10608858e+01, -7.40299400e+00],\n",
       "       [-1.20546020e+00, -1.14501514e+01, -7.38312927e+00],\n",
       "       [-7.57015787e-01, -1.16614537e+01, -7.32378387e+00],\n",
       "       [-3.80057766e-01, -1.19345736e+01, -7.14866439e+00],\n",
       "       [-3.16536474e-02, -1.22921754e+01, -6.94631182e+00],\n",
       "       [ 3.59267328e-01, -1.22939952e+01, -6.79278124e+00],\n",
       "       [ 7.52165021e-01, -1.23531393e+01, -6.67350624e+00],\n",
       "       [ 1.01222495e+00, -1.25263936e+01, -6.43878194e+00],\n",
       "       [ 1.44029569e+00, -1.25327815e+01, -6.16566058e+00],\n",
       "       [ 1.76516423e+00, -1.24940927e+01, -6.03880158e+00],\n",
       "       [ 2.18435755e+00, -1.23182605e+01, -9.04373597e+00],\n",
       "       [ 2.56709177e+00, -1.20743010e+01, -8.95034943e+00],\n",
       "       [ 3.00968972e+00, -1.17953546e+01, -8.87409395e+00],\n",
       "       [ 3.42839034e+00, -1.14154756e+01, -8.72451367e+00],\n",
       "       [ 3.49945233e+00, -1.11674461e+01, -8.46484062e+00],\n",
       "       [ 3.55136213e+00, -1.07580565e+01, -8.22216834e+00],\n",
       "       [ 3.43571003e+00, -1.01151064e+01, -7.99618940e+00],\n",
       "       [ 3.49491682e+00, -9.50187174e+00, -7.89924351e+00],\n",
       "       [ 3.54072870e+00, -9.22977439e+00, -7.77923511e+00],\n",
       "       [ 3.30848453e+00, -8.73711171e+00, -1.07995730e+01]])"
      ]
     },
     "metadata": {},
     "execution_count": 84
    }
   ],
   "metadata": {}
  },
  {
   "cell_type": "code",
   "execution_count": null,
   "source": [],
   "outputs": [],
   "metadata": {}
  },
  {
   "cell_type": "markdown",
   "source": [
    "## Part 3\n",
    "\n",
    "- Write about the residuals you computed, its structure and shape. Also explain the structure of the Jacobian and its shape (Express the shape in terms of the number of vertices, loop constraints, and such, not exact numbers). \n",
    "- Write about the optimization process and any observations using intermediate plots and such. "
   ],
   "metadata": {}
  },
  {
   "cell_type": "code",
   "execution_count": null,
   "source": [
    "# noisy.g2o -> 3 loop-constraint, i->i+1, initialization (nx3)\n",
    "# f 3*Nx1 -> "
   ],
   "outputs": [],
   "metadata": {}
  },
  {
   "cell_type": "markdown",
   "source": [
    "## Part 4\n",
    "\n",
    "Write the final optimised trajectory as a g2o file. You can do this alongside any of the earlier parts."
   ],
   "metadata": {}
  },
  {
   "cell_type": "code",
   "execution_count": null,
   "source": [
    "plt.plot("
   ],
   "outputs": [],
   "metadata": {}
  }
 ],
 "metadata": {
  "kernelspec": {
   "name": "python3",
   "display_name": "Python 3.8.12 64-bit ('robotics': conda)"
  },
  "language_info": {
   "codemirror_mode": {
    "name": "ipython",
    "version": 3
   },
   "file_extension": ".py",
   "mimetype": "text/x-python",
   "name": "python",
   "nbconvert_exporter": "python",
   "pygments_lexer": "ipython3",
   "version": "3.8.12"
  },
  "interpreter": {
   "hash": "dbeadb5cd955d1b56381a482cda70d78266b684eee47b8659aa296edccc60f35"
  }
 },
 "nbformat": 4,
 "nbformat_minor": 5
}