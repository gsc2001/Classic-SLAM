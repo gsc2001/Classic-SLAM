{
 "cells": [
  {
   "cell_type": "markdown",
   "id": "bba1d363",
   "metadata": {},
   "source": [
    "###### Question 2:  Pose Graph Optimization for 2D SLAM"
   ]
  },
  {
   "cell_type": "markdown",
   "id": "f5d41603",
   "metadata": {},
   "source": [
    "## Objective\n",
    "A robot is travelling in a oval trajectory. It is equipped with wheel odometry for odometry information and RGBD sensors for loop closure information. Due to noise in wheel odometry it generates a noisy estimate of the trajectory. Our task is to use loop closure pairs to correct the drift.\n",
    "\n",
    "We pose this problem as a graph optimization problem. In our graph, poses are the vertices and constraints are the edges. "
   ]
  },
  {
   "cell_type": "markdown",
   "id": "75fe908f",
   "metadata": {},
   "source": [
    "## Given: \n",
    "In practical scenarios, we'd obtain the following from our sensors after some post-processing:\n",
    "\n",
    "1. Initial position\n",
    "2. Odometry Contraints/Edges: This \"edge\" information tells us relative transformation between two nodes. These two nodes are consecutive in the case of Odometry but not in the case of Loop Closure (next point).\n",
    "3. Loop Closure Contraints/Edges: Remember that while optimizing, you have another kind of \"anchor\" edge as you've seen in 1. solved example.\n",
    "\n",
    "You have been given a text file named `edges.txt` (in `data/`) which has all the above 3 and it follows G2O's format (as explained in class, [link here](https://saishubodh.notion.site/G2O-Edge-Types-d9f9ff63c77c4ceeb84b1e49085004e3) ). The ground truth is `gt.txt`."
   ]
  },
  {
   "cell_type": "markdown",
   "id": "8472456a",
   "metadata": {},
   "source": [
    "## Steps:\n",
    "\n",
    "### Part 1\n",
    "\n",
    "Using the following motion model, you have to first generate the \"initialization\" for all the poses/vertices using the \"Given\" information. Just like in the 1D case.\n",
    "$$x_{k+1} = x_{k} + \\Delta x_{(k,k+1)} \\cos(\\theta_k) - \\Delta y_{(k,k+1)} \\sin(\\theta_k) \\\\\n",
    "y_{k+1} = y_{k} + \\Delta y_{(k,k+1)} \\cos(\\theta_k) + \\Delta x_{(k,k+1)} \\sin(\\theta_k) \\\\\n",
    "\\theta_{k+1} = \\theta_{k}+  \\Delta \\theta_{(k,k+1)} \\tag{3}$$\n",
    "\n",
    "Even the loop closure nodes are related by the above model, except that it need not necessarily be consecutive notes k and k+1.\n",
    "\n",
    "Save this initial trajectory as `edges-poses.g2o`.\n",
    "\n",
    "If you plot the initialized poses using odometry information, you need to get as the right plot below (this is the \"noisy trajectory\"): (Left one is the ground truth)\n",
    "![robot-poses-MR-P1.png](../misc/robot-poses-MR-P1.png)\n",
    "\n",
    "(Use `draw()` helper function or `g2o_viewer` or `EVO`)"
   ]
  },
  {
   "cell_type": "code",
   "execution_count": 50,
   "id": "5b0e9e7e",
   "metadata": {},
   "outputs": [
    {
     "name": "stdout",
     "output_type": "stream",
     "text": [
      "The autoreload extension is already loaded. To reload it, use:\n",
      "  %reload_ext autoreload\n"
     ]
    }
   ],
   "source": [
    "import numpy as np\n",
    "import matplotlib.pyplot as plt\n",
    "import math\n",
    "from jax import numpy as jnp, jacfwd\n",
    "%load_ext autoreload\n",
    "%autoreload 2\n",
    "plt.style.use('seaborn-darkgrid')\n"
   ]
  },
  {
   "cell_type": "code",
   "execution_count": 49,
   "id": "e9247e46",
   "metadata": {},
   "outputs": [
    {
     "data": {
      "image/png": "[encoded data removed]",
      "text/plain": [
       "<Figure size 432x288 with 1 Axes>"
      ]
     },
     "metadata": {},
     "output_type": "display_data"
    }
   ],
   "source": [
    "def draw(X, Y, THETA, file_name=None):\n",
    "    ax = plt.subplot(111)\n",
    "    ax.plot(X, Y, 'ro')\n",
    "    plt.plot(X, Y, 'c-')\n",
    "\n",
    "    for i in range(len(THETA)):\n",
    "        x2 = 0.25 * np.cos(THETA[i]) + X[i]\n",
    "        y2 = 0.25 * np.sin(THETA[i]) + Y[i]\n",
    "        plt.plot([X[i], x2], [Y[i], y2], 'g->')\n",
    "    \n",
    "    if file_name is not None:\n",
    "        plt.savefig(file_name)\n",
    "    else:\n",
    "        plt.plot()\n",
    "\n",
    "data_file = open('../data/edges.txt')\n",
    "data = data_file.readlines()\n",
    " \n",
    "initial = data[0].split(' ')\n",
    " \n",
    "X = [float(initial[2])]\n",
    "Y = [float(initial[3])]\n",
    "THETA = [float(initial[4])]\n",
    " \n",
    "for i in range(1, len(data)):\n",
    "    line = data[i].split(' ')\n",
    " \n",
    "    if line[0] == \"FIX\":\n",
    "        break\n",
    " \n",
    "    dx = float(line[3])\n",
    "    dy = float(line[4])\n",
    "    dtheta = float(line[5])\n",
    " \n",
    "    X.append(X[-1] + dx * math.cos(THETA[-1]) - dy * math.sin(THETA[-1]))\n",
    "    Y.append(Y[-1] + dy * math.cos(THETA[-1]) + dx * math.sin(THETA[-1]))\n",
    "    THETA.append(THETA[-1] + dtheta)\n",
    " \n",
    "draw(X, Y, THETA)"
   ]
  },
  {
   "cell_type": "markdown",
   "id": "fafcbcc0",
   "metadata": {},
   "source": [
    "## Part 2\n",
    "\n",
    "Now calculate the residual and the Jacobian and update your parameters using LM.\n",
    "\n",
    "Use LM algorithm. Regarding Jacobian calculation, you can use `jax`'s `jacobian` as part of your main code. However, you still have to separately calculate it analytically and verify if it matches with `jax`'s `jacobian` using frobenius norm `frobNorm()`). Calculation and verification is compulsory, but it is your choice to use whichever as part of your optimization. Use whichever is faster. You can also visualise your Jacobian and see the structure of the matrix (just use `plt.imshow`).\n",
    "\n",
    "**Regarding LM iterations, stopping criterion, information matrix values.**\n",
    "\n",
    "1. As your iterations proceed, you have to print relevant information (iteration number and error value: [$F = \\frac{1}{2}  \\mathbf{f}^{\\top} \\mathbf{\\Omega} \\mathbf{f} $ (notes on non-linear LS)](https://saishubodh.notion.site/From-linear-algebra-to-non-linear-weighted-least-squares-optimization-13cf17d318be4d45bb8577c4d3ea4a02#32832dee7d6c4ab49581463d9b784f21) at every step).\n",
    "\n",
    "2. You have to show the plots (ground truth, noisy & optimized: all 3 in a single plot) at every 10 steps or so.\n",
    "\n",
    "3. You could start with information values of 500 for odom edges, 700 for loop closure edges, 1000 for anchor edge (same for all dimensions). However, you have to _heavily_ experiment with these values. (Given that you somehow know loop closure information is way more reliable than odometry.). At the end of your experimentation, your error $F = \\frac{1}{2}  \\mathbf{f}^{\\top} \\mathbf{\\Omega} \\mathbf{f} $ should by < 40. Explain your experimentation in detail using tables/plots etc if necessary.\n",
    "    \n",
    "Do not worry if you're not getting a perfect trajectory. Our parametrization was oversimplified for the sake of this project. With that being said, it is possible to get the error down to < 40 and make it at least look like an oval shaped trajectory, even if it doesn't perfectly resemble the ground truth. However, using `g2o` (seen later on), you will be getting a close to ground truth trajectory."
   ]
  },
  {
   "cell_type": "markdown",
   "id": "c8c3e3f7",
   "metadata": {},
   "source": [
    "**Tip**\n",
    "\n",
    "Be sure to make your code modular and implement this in various stages. It will help you debug errors. Feel free to create helper functions in other files, just be sure to submit those as well. \n",
    "\n",
    "You are free to optimise your code using numba/Jax/torch if you wish, just ensure that you are not using any built in functions for any of the steps. It is only compulsory to verify your Jacobian using Jax."
   ]
  },
  {
   "cell_type": "code",
   "execution_count": 51,
   "id": "f8ef2fcd",
   "metadata": {},
   "outputs": [],
   "source": [
    "get_next_pose = lambda initial, change: np.array(\n",
    "    [\n",
    "        initial[0] + change[0] * np.cos(initial[2]) - change[1] * np.sin(initial[2]),\n",
    "        initial[1] + change[1] * np.cos(initial[2]) + change[0] * np.sin(initial[2]),\n",
    "        initial[2] + change[2],\n",
    "    ]\n",
    ")\n",
    "\n",
    "get_next_pose_jnp = lambda initial, change: jnp.array(\n",
    "    [\n",
    "        initial[0] + change[0] * jnp.cos(initial[2]) - change[1] * jnp.sin(initial[2]),\n",
    "        initial[1] + change[1] * jnp.cos(initial[2]) + change[0] * jnp.sin(initial[2]),\n",
    "        initial[2] + change[2],\n",
    "    ]\n",
    ")"
   ]
  },
  {
   "cell_type": "code",
   "execution_count": 52,
   "id": "2cc5c77c",
   "metadata": {},
   "outputs": [],
   "source": [
    "# Data loading\n",
    "\n",
    "initial_poses = []\n",
    "od_constraints = []\n",
    "loop_constraints = []\n",
    " \n",
    "data_file = open(\"../data/noisy.g2o\")\n",
    " \n",
    "for line in data_file.readlines():\n",
    "    params = line[:-1].split(\" \")\n",
    " \n",
    "    if len(params) < 5:\n",
    "        continue\n",
    " \n",
    "    if params[0] == \"VERTEX_SE2\":\n",
    "        initial_poses.append(np.array([float(params[2]), float(params[3]), float(params[4])]))\n",
    "        # n * 3\n",
    "    else:\n",
    "        pose_start = int(params[1])\n",
    "        pose_end = int(params[2])\n",
    " \n",
    "        formatted_params = [\n",
    "            [\n",
    "                pose_start,\n",
    "                pose_end,\n",
    "            ],\n",
    "            [\n",
    "                float(params[3]),\n",
    "                float(params[4]),\n",
    "                float(params[5]),\n",
    "            ],\n",
    "        ]\n",
    " \n",
    "        if pose_end == pose_start + 1:\n",
    "            od_constraints.append(formatted_params)\n",
    "        else:\n",
    "            loop_constraints.append(formatted_params)\n",
    " \n",
    "initial_poses = np.array(initial_poses)\n"
   ]
  },
  {
   "cell_type": "code",
   "execution_count": 41,
   "id": "61e579eb",
   "metadata": {},
   "outputs": [],
   "source": [
    "constraints = []\n",
    "constraints.extend(od_constraints)\n",
    "constraints.extend(loop_constraints)\n",
    "initial_state = initial_poses.reshape(-1,1)\n",
    "n_poses = initial_poses.shape[0]\n",
    "n_constraints = len(constraints)\n",
    "f_shape = (n_constraints * 3 + 3, 1)\n",
    "j_shape = (f_shape[0], initial_state.shape[0])"
   ]
  },
  {
   "cell_type": "code",
   "execution_count": 42,
   "id": "67947675",
   "metadata": {},
   "outputs": [],
   "source": [
    "def f_raw(state):\n",
    "    poses = state.reshape(-1,3)\n",
    "    fixed_pose = initial_poses[0]\n",
    "    f = []\n",
    " \n",
    "    for constraint in constraints:\n",
    "        pose_start = constraint[0][0]\n",
    "        pose_end = constraint[0][1]\n",
    " \n",
    "        diff = get_next_pose(poses[pose_start], constraint[1]) - poses[pose_end]\n",
    "        f.extend(diff)\n",
    " \n",
    "    # initial position\n",
    "    f.extend(poses[0] - fixed_pose)\n",
    "    return f\n"
   ]
  },
  {
   "cell_type": "code",
   "execution_count": 53,
   "id": "d3b8ed10",
   "metadata": {},
   "outputs": [],
   "source": [
    "def jax_f(state):\n",
    "    poses = state.reshape(-1,3)\n",
    "    fixed_pose = initial_poses[0]\n",
    "    f = []\n",
    " \n",
    "    for constraint in constraints:\n",
    "        pose_start = constraint[0][0]\n",
    "        pose_end = constraint[0][1]\n",
    " \n",
    "        diff = get_next_pose_jnp(poses[pose_start], constraint[1]) - poses[pose_end]\n",
    "        f.extend(diff)\n",
    " \n",
    "    # initial position\n",
    "    f.extend(poses[0] - fixed_pose)\n",
    "    return f\n",
    "def f(state):\n",
    "    return np.array(f_raw(state)).reshape(-1,1)"
   ]
  },
  {
   "cell_type": "code",
   "execution_count": 54,
   "id": "d9034c5c-1fcc-4b69-9962-bc3e009398ce",
   "metadata": {},
   "outputs": [],
   "source": [
    "def get_info_mat(od_info=500, loop_info=700, fix_info=1000):\n",
    "    n_od = 3*len(od_constraints)\n",
    "    n_loop = 3*len(loop_constraints)\n",
    "    info_mat = np.eye(f_shape[0])\n",
    "    info_mat[:n_od,:n_od] = od_info*np.eye(n_od)\n",
    "    info_mat[n_od:n_od + n_loop,n_od:n_od+ n_loop] = loop_info*np.eye(n_loop)\n",
    "    info_mat[-3:,-3:] = fix_info*np.eye(3)\n",
    "    return info_mat"
   ]
  },
  {
   "cell_type": "code",
   "execution_count": 55,
   "id": "492ebd37",
   "metadata": {},
   "outputs": [],
   "source": [
    "def jac(state:np.ndarray):\n",
    "    J = np.zeros(j_shape)\n",
    "    for i, constraint in enumerate(constraints):\n",
    "        pose_start = constraint[0][0]\n",
    "        pose_end = constraint[0][1]\n",
    "        theta_start = state[3*pose_start+2]\n",
    "        \n",
    "        # x constraint\n",
    "        J[3*i, 3 * pose_start] = 1 \n",
    "        J[3*i, 3 * pose_end] = -1 \n",
    "        J[3*i, 3 * pose_start + 2] = -constraint[1][0]*np.sin(theta_start) - constraint[1][1]*np.cos(theta_start) \n",
    "        \n",
    "        # y constraint\n",
    "        J[3*i + 1, 3 * pose_start + 1] = 1 \n",
    "        J[3*i + 1, 3 * pose_end + 1] = -1 \n",
    "        J[3*i + 1, 3 * pose_start + 2] = -constraint[1][1]*np.sin(theta_start) + constraint[1][0]*np.cos(theta_start) \n",
    "        \n",
    "        # theta constraint\n",
    "        J[3*i+2,3*pose_start+2] = 1\n",
    "        J[3*i+2,3*pose_end+2] = -1\n",
    "   \n",
    "    # fixed poses\n",
    "    J[-3,0] = 1\n",
    "    J[-2,1] = 1\n",
    "    J[-1,2] = 1\n",
    "    return J"
   ]
  },
  {
   "cell_type": "code",
   "execution_count": 56,
   "id": "e3c10226-3bd0-4d8f-9c1d-a80cb99862d3",
   "metadata": {},
   "outputs": [],
   "source": [
    "jac_jax = jacfwd(jax_f)"
   ]
  },
  {
   "cell_type": "code",
   "execution_count": 57,
   "id": "287fae63",
   "metadata": {},
   "outputs": [
    {
     "name": "stderr",
     "output_type": "stream",
     "text": [
      "WARNING:absl:No GPU/TPU found, falling back to CPU. (Set TF_CPP_MIN_LOG_LEVEL=0 and rerun for more info.)\n"
     ]
    }
   ],
   "source": [
    "J_jax = jac_jax(initial_poses.reshape(-1))\n",
    "J = jac(initial_poses.reshape(-1))"
   ]
  },
  {
   "cell_type": "code",
   "execution_count": 58,
   "id": "01ba7701",
   "metadata": {},
   "outputs": [],
   "source": [
    "def frobNorm(P1, P2, str1=\"mat1\", str2=\"mat2\"):\n",
    "    # jnp.set_printoptions(suppress=True)\n",
    "    val = jnp.linalg.norm(P1 - P2, 'fro')\n",
    "    print(f\"Frobenius norm between {str1} and {str2} is: {val}\")"
   ]
  },
  {
   "cell_type": "code",
   "execution_count": 60,
   "id": "35d61e19-15ed-4dc3-924d-afff54c270d6",
   "metadata": {},
   "outputs": [
    {
     "name": "stdout",
     "output_type": "stream",
     "text": [
      "Frobenius norm between mat1 and mat2 is: 8.390286438952899e-07\n"
     ]
    }
   ],
   "source": [
    "# Comparing 2 jacobians\n",
    "frobNorm(J, J_jax)"
   ]
  },
  {
   "cell_type": "code",
   "execution_count": 61,
   "id": "5a42134d",
   "metadata": {},
   "outputs": [],
   "source": [
    "from optimizer import Optimizer"
   ]
  },
  {
   "cell_type": "code",
   "execution_count": 105,
   "id": "d27407bf-0ee7-43f7-9984-807de35f63d7",
   "metadata": {},
   "outputs": [],
   "source": [
    "# Reduce information of theta edges\n",
    "# info_mat = get_info_mat(20,700,1000)\n",
    "# theta_info_ratio = .5\n",
    "# for i in range(info_mat.shape[0]):\n",
    "#     if i % 3 == 2:\n",
    "#         info_mat[i,i] *= theta_info_ratio\n",
    "        \n",
    "# info_mat[-1,-1] = 1000"
   ]
  },
  {
   "cell_type": "code",
   "execution_count": 115,
   "id": "d2ea1a9b-17c5-4d4d-8f13-08c40b7fb44c",
   "metadata": {},
   "outputs": [],
   "source": [
    "info_mat = get_info_mat(20,700,1000)"
   ]
  },
  {
   "cell_type": "code",
   "execution_count": 116,
   "id": "44696548-ad10-4437-be38-f35244408a4d",
   "metadata": {},
   "outputs": [
    {
     "name": "stdout",
     "output_type": "stream",
     "text": [
      "INFO: Using ALGO: LM\n",
      "INFO Initial Error: 639371.6381937417\n"
     ]
    }
   ],
   "source": [
    "solver = Optimizer(f, jac, initial_state, info_mat, algo='LM', lm_lambda=1,n_iter=100)"
   ]
  },
  {
   "cell_type": "code",
   "execution_count": 117,
   "id": "09d07fea-ba66-4c9b-8fd1-a3f02629e042",
   "metadata": {},
   "outputs": [
    {
     "name": "stdout",
     "output_type": "stream",
     "text": [
      "Iteration: 0 / 100\n",
      "Loss: 639371.6381937417\n",
      "LM: Update Accepted\n",
      "Iteration: 1 / 100\n",
      "Loss: 103336.34256273886\n",
      "LM: Update Accepted\n",
      "Iteration: 2 / 100\n",
      "Loss: 848.784075990026\n",
      "LM: Update Accepted\n",
      "Iteration: 3 / 100\n",
      "Loss: 678.970149853822\n",
      "LM: Update Rejected\n",
      "LM: Update Accepted\n",
      "Iteration: 5 / 100\n",
      "Loss: 48.701909800130956\n",
      "LM: Update Rejected\n",
      "LM: Update Accepted\n",
      "Iteration: 7 / 100\n",
      "Loss: 41.42536030567381\n",
      "LM: Update Rejected\n",
      "LM: Update Accepted\n",
      "Iteration: 9 / 100\n",
      "Loss: 30.845344788585358\n",
      "LM: Update Rejected\n",
      "LM: Update Accepted\n",
      "Iteration: 11 / 100\n",
      "Loss: 24.540289996469298\n",
      "LM: Update Rejected\n",
      "LM: Update Accepted\n",
      "Iteration: 13 / 100\n",
      "Loss: 21.54851330554379\n",
      "LM: Update Rejected\n",
      "LM: Update Accepted\n",
      "Iteration: 15 / 100\n",
      "Loss: 20.20195203189421\n",
      "LM: Update Rejected\n",
      "LM: Update Accepted\n",
      "Iteration: 17 / 100\n",
      "Loss: 19.638173417017477\n",
      "LM: Update Rejected\n",
      "LM: Update Accepted\n",
      "Iteration: 19 / 100\n",
      "Loss: 19.41267435467436\n",
      "LM: Update Accepted\n",
      "Iteration: 20 / 100\n",
      "Loss: 19.379712461290143\n",
      "LM: Update Accepted\n",
      "Iteration: 21 / 100\n",
      "Loss: 19.312495842041372\n",
      "LM: Update Accepted\n",
      "Iteration: 22 / 100\n",
      "Loss: 19.28289146728903\n",
      "LM: Update Accepted\n",
      "Iteration: 23 / 100\n",
      "Loss: 19.273436210425963\n",
      "LM: Update Accepted\n",
      "Iteration: 24 / 100\n",
      "Loss: 19.269873292535795\n",
      "LM: Update Accepted\n",
      "Iteration: 25 / 100\n",
      "Loss: 19.268430679825684\n",
      "LM: Update Accepted\n",
      "Iteration: 26 / 100\n",
      "Loss: 19.267823927857023\n",
      "LM: Update Accepted\n",
      "Iteration: 27 / 100\n",
      "Loss: 19.267564069027756\n",
      "LM: Update Accepted\n",
      "Iteration: 28 / 100\n",
      "Loss: 19.267451812385314\n",
      "LM: Update Accepted\n",
      "Iteration: 29 / 100\n",
      "Loss: 19.267403110383235\n"
     ]
    }
   ],
   "source": [
    "solver.optimize()"
   ]
  },
  {
   "cell_type": "code",
   "execution_count": 118,
   "id": "7090e9bf-9bba-421c-8b7d-7bc043248207",
   "metadata": {},
   "outputs": [],
   "source": [
    "def draw_final(state):\n",
    "    final_poses = state.reshape(-1,3)\n",
    "    draw(final_poses[:,0], final_poses[:,1], final_poses[:,2])"
   ]
  },
  {
   "cell_type": "code",
   "execution_count": 119,
   "id": "65748936-de32-41b4-83cd-fa29811c2393",
   "metadata": {},
   "outputs": [
    {
     "data": {
      "image/png": "[encoded data removed]",
      "text/plain": [
       "<Figure size 432x288 with 1 Axes>"
      ]
     },
     "metadata": {},
     "output_type": "display_data"
    }
   ],
   "source": [
    "draw_final(solver.get_current())"
   ]
  },
  {
   "cell_type": "markdown",
   "id": "dd1f0f0c-ee42-4c2a-a7d2-6d06d56e8b90",
   "metadata": {},
   "source": [
    "```\n",
    "Note: Using 20, 700, 1000 as info matrix values\n",
    "```"
   ]
  },
  {
   "cell_type": "markdown",
   "id": "9dd7f7e4-6fec-4c13-aa15-2ccdecf611d0",
   "metadata": {},
   "source": [
    "#### Experimentation for info matrix\n",
    "We did a lot of experimentation with info matrix.\n",
    "\n",
    "- We first tried with value 500, 700, 1000: Error was about 444\n",
    "- After that in order to get some idea of how the matrix should be, we first tried random numbers but to our surprise, each one of that were giving the exact same plot. So we decided to first try everything we can therefore we created a script to try for all info matrices with value: \n",
    "    - Fixed: 1000, 2000, 3000, 5000, 10000\n",
    "    - Odometery: 100 -> Fixed with stride 50\n",
    "    - Loop : Odometery + 50 -> Fixed with stride 50\n",
    "Using a python script and made it ran 1 whole night. \n",
    "The result of it was quite surprising, **ALL** the plots had similar path as we achieved with the `500,700,1000` ({link}). We were confused on what to do. (We also did thought that our code was wrong for some time, but we thoroughlt debugged it and there were no issues.\n",
    "\n",
    "- To move ahead we thought of seeing the optmized graph in `g2o_viewer`. <br />\n",
    "<img src=\"./misc/1000_700_20_g2o.png\" alt=\"drawing\" width=\"300\"/> <br>\n",
    "This explained a lot to us. As you can see, the loop constraint are right and below. This our understanding why are we getting a plot like this:\n",
    "    - The path got shifted below on the top due to increasing and faulty $ \\theta $ values (this is again verified as the path is tilted to up on the right (increasing $\\theta$), now as to get the loop constraint satisfied it needs to go up and join back to the line below, therefore we see a loop on the left. The only thing to correct the path was that it was not pushed so down (in the top line) and hence there wouldn't have been a loop required to match loop constraint. -> **The path has got into a local minima**\n",
    "\n",
    "- After this we tried to reduce info value of $ \\theta $ edges, in hope it would improve something, but it was still the same <br >\n",
    "<img src=\"./misc/theta_small.png\" alt=\"drawing\" width=\"300\"/> <br>\n",
    "\n",
    "- We tried to remove the loop from left so that optimization doesn't get stuck in local minima. We tried various info mats with low odometery so that loop couldn't occur, but it occured. The reason behind that we think is that our initialization was created using faulty theta and therefore we were not able to get to global minima. To tackle this we could use Vision to get poses from other ways also hence making a better initialization \n",
    "\n",
    "- We tried a wierd thing also, we gave more weightage to odometery (to avoid the loop at the right), and this gave a good result, but error was high due to loop not completing (info values: `500,1,1000`) <br>\n",
    "<img src=\"./misc/1000_1_500.png\" alt=\"drawing\" width=\"300\"/> <br>\n",
    "\n",
    "At the end we used info mat `20,700,1000` as it was quite less error (19) and good enough trajectory\n"
   ]
  },
  {
   "cell_type": "markdown",
   "id": "60f8f84b",
   "metadata": {},
   "source": [
    "## Part 3\n",
    "\n",
    "- Write about the residuals you computed, its structure and shape. Also explain the structure of the Jacobian and its shape (Express the shape in terms of the number of vertices, loop constraints, and such, not exact numbers). \n",
    "- Write about the optimization process and any observations using intermediate plots and such. "
   ]
  },
  {
   "cell_type": "markdown",
   "id": "658f02fd-651a-4c1c-862b-18bacd4fae05",
   "metadata": {},
   "source": [
    "#### 2\n",
    "The optmization reduces the error and for our case it was sticking into local minima (due to loop getting created on the right). Initialy plot used to get very bad but slowly it would go to a decent enough path"
   ]
  },
  {
   "cell_type": "markdown",
   "id": "add481aa",
   "metadata": {},
   "source": [
    "## Part 4\n",
    "\n",
    "Write the final optimised trajectory as a g2o file. You can do this alongside any of the earlier parts."
   ]
  },
  {
   "cell_type": "code",
   "execution_count": 120,
   "id": "32e69fac",
   "metadata": {},
   "outputs": [],
   "source": [
    "poses = solver.get_current().reshape(-1,3)\n",
    "file = open('../data/optmised_1000_700_20.g2o', 'w')\n",
    "for i, pose in enumerate(poses):\n",
    "    file.write(f\"VERTEX_SE2 {i} {pose[0]} {pose[1]} {pose[2]}\\n\")\n",
    "    \n",
    "for constraint in od_constraints:\n",
    "    file.write(f\"EDGE_SE2 {constraint[0][0]} {constraint[0][1]} {constraint[1][0]} {constraint[1][1]} {constraint[1][2]} 500 0 0 500 0 500\\n\")\n",
    "    \n",
    "for constraint in loop_constraints:\n",
    "    file.write(f\"EDGE_SE2 {constraint[0][0]} {constraint[0][1]} {constraint[1][0]} {constraint[1][1]} {constraint[1][2]} 700 0 0 700 0 700\\n\")\n",
    "\n",
    "file.write(\"FIX 0\")\n",
    "file.close()"
   ]
  },
  {
   "cell_type": "code",
   "execution_count": 122,
   "id": "2117408c-013b-4a7d-a227-16d09125a38d",
   "metadata": {},
   "outputs": [],
   "source": [
    "np.save('jac.npy', jac(initial_state))"
   ]
  },
  {
   "cell_type": "code",
   "execution_count": null,
   "id": "46df11e6-53e8-421e-b11f-b7ee368bc218",
   "metadata": {},
   "outputs": [],
   "source": []
  }
 ],
 "metadata": {
  "interpreter": {
   "hash": "dbeadb5cd955d1b56381a482cda70d78266b684eee47b8659aa296edccc60f35"
  },
  "kernelspec": {
   "display_name": "Python 3 (ipykernel)",
   "language": "python",
   "name": "python3"
  },
  "language_info": {
   "codemirror_mode": {
    "name": "ipython",
    "version": 3
   },
   "file_extension": ".py",
   "mimetype": "text/x-python",
   "name": "python",
   "nbconvert_exporter": "python",
   "pygments_lexer": "ipython3",
   "version": "3.8.12"
  }
 },
 "nbformat": 4,
 "nbformat_minor": 5
}
