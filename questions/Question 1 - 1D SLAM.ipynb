{
 "cells": [
  {
   "cell_type": "markdown",
   "id": "posted-twist",
   "metadata": {},
   "source": [
    "# Question 1:  Pose Graph Optimization for 1D SLAM"
   ]
  },
  {
   "cell_type": "markdown",
   "id": "chemical-andorra",
   "metadata": {},
   "source": [
    "A solved example for 1D SLAM which optimizes for pose variables using weighted least squares method (Gauss Newton) has been explained in the class. You can view it at `examples/1D-SLAM.ipynb`. Your first task is to code this from scratch.\n",
    "\n",
    "For this section, you have to calculate Jacobian analytically yourself and use it. However, you can check how correct it is using `jax`'s `jacobian`. Its usage is explained in the supplementary notebook (`examples/`)."
   ]
  },
  {
   "cell_type": "markdown",
   "id": "fleet-digest",
   "metadata": {},
   "source": [
    "## How to get started?\n",
    "\n",
    "1. Go through the example and understand the optimization procedure.\n",
    "2. Generate the data as in the example.\n",
    "3. Write the derivatives of the function with respect to the constraints\n",
    "4. Create the final jacobian and write the update steps using Gauss Newton\n",
    "\n",
    "This tiny example will help make sense of the next question, as it's largely just an extension of this."
   ]
  },
  {
   "cell_type": "markdown",
   "id": "tough-brighton",
   "metadata": {},
   "source": [
    "Finally, plot the loop closure constraint, poses, and error at every iteration as well. Since this is a one dimensional example, you can just assume x = y."
   ]
  },
  {
   "cell_type": "code",
   "execution_count": 2,
   "id": "multiple-stomach",
   "metadata": {},
   "outputs": [],
   "source": [
    "import os\n",
    "import math\n",
    "import numpy as np\n",
    "import matplotlib.pyplot as plt\n",
    "from typing import Callable"
   ]
  },
  {
   "cell_type": "code",
   "execution_count": 47,
   "id": "focal-identification",
   "metadata": {
    "pycharm": {
     "name": "#%%\n"
    }
   },
   "outputs": [],
   "source": [
    "class Optimizer:\n",
    "    def __init__(self, f: Callable[[np.ndarray], np.ndarray],\n",
    "                 jac: Callable[[np.ndarray], np.ndarray],\n",
    "                 initial_values: np.ndarray, info_mat: np.ndarray, n_iter=10):\n",
    "        \"\"\"\n",
    "        Create Gauss - Newton based optmizer for given loss_function and jacobial function\n",
    "        :param loss_function:  Loss function\n",
    "        :param jac: Function to compute jac at a state\n",
    "        :param initial_values: Initial values of state\n",
    "        \"\"\"\n",
    "\n",
    "        self.f = f\n",
    "        self.jac = jac\n",
    "        self.initial_values = initial_values\n",
    "        self.info_mat = info_mat\n",
    "        self.n_iter = n_iter\n",
    "\n",
    "        self.F = lambda x: 0.5 * (f(x).T @ info_mat @ f(x))\n",
    "        self.__current = self.initial_values.copy()\n",
    "        self.__iter = 0\n",
    "\n",
    "    def get_current(self):\n",
    "        return self.__current\n",
    "    def get_change(self) -> np.ndarray:\n",
    "        J = self.jac(self.__current)\n",
    "        H = J.T @ self.info_mat @ J\n",
    "        b = J.T @ self.info_mat.T @ self.f(self.__current)\n",
    "        dx = -np.linalg.inv(H) @ b\n",
    "\n",
    "        return dx\n",
    "\n",
    "    def print_info(self):\n",
    "        print(f\"Iteration: {self.__iter} / {self.n_iter}\")\n",
    "        print(f\"Error: {self.F(self.__current)}\")\n",
    "        # TODO: Draw plots\n",
    "\n",
    "    def update(self):\n",
    "        self.__iter+=1\n",
    "        dx = self.get_change()\n",
    "        self.__current += dx\n",
    "\n",
    "    def optimize(self):\n",
    "        self.print_info()\n",
    "        for i in range(self.n_iter):\n",
    "            self.update()\n",
    "            self.print_info()"
   ]
  },
  {
   "cell_type": "code",
   "execution_count": 23,
   "outputs": [],
   "source": [
    "initial_values = np.array([0, 1.1, 2.1, 3.2, 0.5]).reshape(-1, 1)\n",
    "f = lambda x: np.array(\n",
    "    [x[0] + 1.1 - x[1], x[1] + 1 - x[2], x[2] + 1.1 - x[3], x[3] - 2.7 - x[4],\n",
    "     x[0] + 0 - x[4], x[0] - 0]).reshape(-1, 1)\n",
    "jac = lambda x: np.array(\n",
    "    [[1, -1, 0, 0, 0], [0, 1, -1, 0, 0], [0, 0, 1, -1, 0], [0, 0, 0, 1, -1],\n",
    "     [1, 0, 0, 0, -1], [1, 0, 0, 0, 0]])\n",
    "info_mat = np.eye(6)\n",
    "info_mat *= 100\n",
    "info_mat[5, 5] = 1000"
   ],
   "metadata": {
    "collapsed": false,
    "pycharm": {
     "name": "#%%\n"
    }
   }
  },
  {
   "cell_type": "code",
   "execution_count": 15,
   "outputs": [
    {
     "data": {
      "text/plain": "array([[ 100.,    0.,    0.,    0.,    0.,    0.],\n       [   0.,  100.,    0.,    0.,    0.,    0.],\n       [   0.,    0.,  100.,    0.,    0.,    0.],\n       [   0.,    0.,    0.,  100.,    0.,    0.],\n       [   0.,    0.,    0.,    0.,  100.,    0.],\n       [   0.,    0.,    0.,    0.,    0., 1000.]])"
     },
     "execution_count": 15,
     "metadata": {},
     "output_type": "execute_result"
    }
   ],
   "source": [
    "info_mat"
   ],
   "metadata": {
    "collapsed": false,
    "pycharm": {
     "name": "#%%\n"
    }
   }
  },
  {
   "cell_type": "code",
   "execution_count": 48,
   "outputs": [],
   "source": [
    "solver = Optimizer(f, jac, initial_values, info_mat, 1)\n",
    "# n_iter only 1 because its linear\n"
   ],
   "metadata": {
    "collapsed": false,
    "pycharm": {
     "name": "#%%\n"
    }
   }
  },
  {
   "cell_type": "code",
   "execution_count": 49,
   "outputs": [
    {
     "name": "stdout",
     "output_type": "stream",
     "text": [
      "Iteration: 0 / 1\n",
      "Error: [[12.5]]\n",
      "Iteration: 1 / 1\n",
      "Error: [[2.5]]\n"
     ]
    }
   ],
   "source": [
    "solver.optimize()"
   ],
   "metadata": {
    "collapsed": false,
    "pycharm": {
     "name": "#%%\n"
    }
   }
  },
  {
   "cell_type": "code",
   "execution_count": 44,
   "outputs": [
    {
     "data": {
      "text/plain": "array([[6.9388939e-18],\n       [1.0000000e+00],\n       [1.9000000e+00],\n       [2.9000000e+00],\n       [1.0000000e-01]])"
     },
     "execution_count": 44,
     "metadata": {},
     "output_type": "execute_result"
    }
   ],
   "source": [
    "solver.get_current()"
   ],
   "metadata": {
    "collapsed": false,
    "pycharm": {
     "name": "#%%\n"
    }
   }
  },
  {
   "cell_type": "code",
   "execution_count": 46,
   "outputs": [
    {
     "name": "stdout",
     "output_type": "stream",
     "text": [
      "Iteration: 0 / 1\n",
      "Error: [[12.5]]\n"
     ]
    }
   ],
   "source": [
    "solver.print_info()"
   ],
   "metadata": {
    "collapsed": false,
    "pycharm": {
     "name": "#%%\n"
    }
   }
  },
  {
   "cell_type": "code",
   "execution_count": null,
   "outputs": [],
   "source": [],
   "metadata": {
    "collapsed": false,
    "pycharm": {
     "name": "#%%\n"
    }
   }
  }
 ],
 "metadata": {
  "kernelspec": {
   "display_name": "Python 3 (ipykernel)",
   "language": "python",
   "name": "python3"
  },
  "language_info": {
   "codemirror_mode": {
    "name": "ipython",
    "version": 3
   },
   "file_extension": ".py",
   "mimetype": "text/x-python",
   "name": "python",
   "nbconvert_exporter": "python",
   "pygments_lexer": "ipython3",
   "version": "3.8.12"
  }
 },
 "nbformat": 4,
 "nbformat_minor": 5
}