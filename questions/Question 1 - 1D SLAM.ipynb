{
 "cells": [
  {
   "cell_type": "markdown",
   "id": "posted-twist",
   "metadata": {},
   "source": [
    "# Question 1:  Pose Graph Optimization for 1D SLAM"
   ]
  },
  {
   "cell_type": "markdown",
   "id": "chemical-andorra",
   "metadata": {},
   "source": [
    "A solved example for 1D SLAM which optimizes for pose variables using weighted least squares method (Gauss Newton) has been explained in the class. You can view it at `examples/1D-SLAM.ipynb`. Your first task is to code this from scratch.\n",
    "\n",
    "For this section, you have to calculate Jacobian analytically yourself and use it. However, you can check how correct it is using `jax`'s `jacobian`. Its usage is explained in the supplementary notebook (`examples/`)."
   ]
  },
  {
   "cell_type": "markdown",
   "id": "fleet-digest",
   "metadata": {},
   "source": [
    "## How to get started?\n",
    "\n",
    "1. Go through the example and understand the optimization procedure.\n",
    "2. Generate the data as in the example.\n",
    "3. Write the derivatives of the function with respect to the constraints\n",
    "4. Create the final jacobian and write the update steps using Gauss Newton\n",
    "\n",
    "This tiny example will help make sense of the next question, as it's largely just an extension of this."
   ]
  },
  {
   "cell_type": "markdown",
   "id": "tough-brighton",
   "metadata": {},
   "source": [
    "Finally, plot the loop closure constraint, poses, and error at every iteration as well. Since this is a one dimensional example, you can just assume x = y."
   ]
  },
  {
   "cell_type": "code",
   "execution_count": 23,
   "id": "multiple-stomach",
   "metadata": {},
   "outputs": [],
   "source": [
    "import os\n",
    "import math\n",
    "import numpy as np\n",
    "import matplotlib.pyplot as plt\n",
    "from typing import Callable"
   ]
  },
  {
   "cell_type": "code",
   "execution_count": 33,
   "id": "focal-identification",
   "metadata": {
    "pycharm": {
     "name": "#%%\n"
    }
   },
   "outputs": [],
   "source": [
    "from optimizer import Optimizer"
   ]
  },
  {
   "cell_type": "code",
   "execution_count": 34,
   "id": "b91ae714",
   "metadata": {
    "collapsed": false,
    "jupyter": {
     "outputs_hidden": false
    },
    "pycharm": {
     "name": "#%%\n"
    }
   },
   "outputs": [],
   "source": [
    "initial_values = np.array([0, 1.1, 2.1, 3.2, 0.5]).reshape(-1, 1)\n",
    "f = lambda x: np.array(\n",
    "    [x[0] + 1.1 - x[1], x[1] + 1 - x[2], x[2] + 1.1 - x[3], x[3] - 2.7 - x[4],\n",
    "     x[0] + 0 - x[4], x[0] - 0]).reshape(-1, 1)\n",
    "jac = lambda x: np.array(\n",
    "    [[1, -1, 0, 0, 0], [0, 1, -1, 0, 0], [0, 0, 1, -1, 0], [0, 0, 0, 1, -1],\n",
    "     [1, 0, 0, 0, -1], [1, 0, 0, 0, 0]])\n",
    "info_mat = np.eye(6)\n",
    "info_mat *= 100\n",
    "info_mat[5, 5] = 1000"
   ]
  },
  {
   "cell_type": "code",
   "execution_count": 35,
   "id": "8e9206d5",
   "metadata": {
    "collapsed": false,
    "jupyter": {
     "outputs_hidden": false
    },
    "pycharm": {
     "name": "#%%\n"
    }
   },
   "outputs": [
    {
     "data": {
      "text/plain": [
       "array([[ 100.,    0.,    0.,    0.,    0.,    0.],\n",
       "       [   0.,  100.,    0.,    0.,    0.,    0.],\n",
       "       [   0.,    0.,  100.,    0.,    0.,    0.],\n",
       "       [   0.,    0.,    0.,  100.,    0.,    0.],\n",
       "       [   0.,    0.,    0.,    0.,  100.,    0.],\n",
       "       [   0.,    0.,    0.,    0.,    0., 1000.]])"
      ]
     },
     "execution_count": 35,
     "metadata": {},
     "output_type": "execute_result"
    }
   ],
   "source": [
    "info_mat"
   ]
  },
  {
   "cell_type": "code",
   "execution_count": 36,
   "id": "e4df7545",
   "metadata": {
    "collapsed": false,
    "jupyter": {
     "outputs_hidden": false
    },
    "pycharm": {
     "name": "#%%\n"
    }
   },
   "outputs": [
    {
     "name": "stderr",
     "output_type": "stream",
     "text": [
      "INFO:Optimizer:Using ALGO: LM\n",
      "INFO:Optimizer:Initial Error: 12.5\n"
     ]
    }
   ],
   "source": [
    "solver = Optimizer(f, jac, initial_values, info_mat, 1, algo='LM')\n",
    "# n_iter only 1 because its linear\n"
   ]
  },
  {
   "cell_type": "code",
   "execution_count": 38,
   "id": "79d69a79",
   "metadata": {
    "collapsed": false,
    "jupyter": {
     "outputs_hidden": false
    },
    "pycharm": {
     "name": "#%%\n"
    }
   },
   "outputs": [
    {
     "name": "stderr",
     "output_type": "stream",
     "text": [
      "DEBUG:Optimizer:LM: Update Accepted\n"
     ]
    },
    {
     "name": "stdout",
     "output_type": "stream",
     "text": [
      "Iteration: 1 / 1\n",
      "Loss: 12.5\n",
      "Iteration: 2 / 1\n",
      "Loss: 2.5000000037997787\n"
     ]
    }
   ],
   "source": [
    "solver.optimize()"
   ]
  },
  {
   "cell_type": "code",
   "execution_count": 39,
   "id": "cc78ae24",
   "metadata": {
    "collapsed": false,
    "jupyter": {
     "outputs_hidden": false
    },
    "pycharm": {
     "name": "#%%\n"
    }
   },
   "outputs": [
    {
     "data": {
      "text/plain": [
       "array([[9.99970001e-07],\n",
       "       [1.00000500e+00],\n",
       "       [1.90000800e+00],\n",
       "       [2.90000900e+00],\n",
       "       [1.00007000e-01]])"
      ]
     },
     "execution_count": 39,
     "metadata": {},
     "output_type": "execute_result"
    }
   ],
   "source": [
    "solver.get_current()"
   ]
  },
  {
   "cell_type": "code",
   "execution_count": 40,
   "id": "54db8680",
   "metadata": {
    "collapsed": false,
    "jupyter": {
     "outputs_hidden": false
    },
    "pycharm": {
     "name": "#%%\n"
    }
   },
   "outputs": [
    {
     "name": "stdout",
     "output_type": "stream",
     "text": [
      "Iteration: 2 / 1\n",
      "Loss: 2.5000000037997787\n"
     ]
    }
   ],
   "source": [
    "solver.print_info()"
   ]
  },
  {
   "cell_type": "code",
   "execution_count": 41,
   "id": "f5ad1f62",
   "metadata": {
    "collapsed": false,
    "jupyter": {
     "outputs_hidden": false
    },
    "pycharm": {
     "name": "#%%\n"
    }
   },
   "outputs": [
    {
     "data": {
      "text/plain": [
       "{'f': <function __main__.<lambda>(x)>,\n",
       " 'jac': <function __main__.<lambda>(x)>,\n",
       " 'initial_values': array([[0. ],\n",
       "        [1.1],\n",
       "        [2.1],\n",
       "        [3.2],\n",
       "        [0.5]]),\n",
       " 'info_mat': array([[ 100.,    0.,    0.,    0.,    0.,    0.],\n",
       "        [   0.,  100.,    0.,    0.,    0.,    0.],\n",
       "        [   0.,    0.,  100.,    0.,    0.,    0.],\n",
       "        [   0.,    0.,    0.,  100.,    0.,    0.],\n",
       "        [   0.,    0.,    0.,    0.,  100.,    0.],\n",
       "        [   0.,    0.,    0.,    0.,    0., 1000.]]),\n",
       " 'n_iter': 1,\n",
       " 'algo': 'LM',\n",
       " 'lm_lambda': 0.0001,\n",
       " 'F': <function optimizer.Optimizer.__init__.<locals>.<lambda>(x)>,\n",
       " '_Optimizer__current': array([[9.99970001e-07],\n",
       "        [1.00000500e+00],\n",
       "        [1.90000800e+00],\n",
       "        [2.90000900e+00],\n",
       "        [1.00007000e-01]]),\n",
       " '_Optimizer__iter': 2}"
      ]
     },
     "execution_count": 41,
     "metadata": {},
     "output_type": "execute_result"
    }
   ],
   "source": [
    "solver.__dict__"
   ]
  },
  {
   "cell_type": "code",
   "execution_count": 12,
   "id": "19c00229-a67c-4510-8cfb-a0482628bda5",
   "metadata": {},
   "outputs": [
    {
     "ename": "AttributeError",
     "evalue": "'Optimizer' object has no attribute '__current'",
     "output_type": "error",
     "traceback": [
      "\u001b[0;31m---------------------------------------------------------------------------\u001b[0m",
      "\u001b[0;31mAttributeError\u001b[0m                            Traceback (most recent call last)",
      "\u001b[0;32m/tmp/ipykernel_252433/1569731239.py\u001b[0m in \u001b[0;36m<module>\u001b[0;34m\u001b[0m\n\u001b[0;32m----> 1\u001b[0;31m \u001b[0msolver\u001b[0m\u001b[0;34m.\u001b[0m\u001b[0m__current\u001b[0m\u001b[0;34m\u001b[0m\u001b[0;34m\u001b[0m\u001b[0m\n\u001b[0m",
      "\u001b[0;31mAttributeError\u001b[0m: 'Optimizer' object has no attribute '__current'"
     ]
    }
   ],
   "source": [
    "solver.__current"
   ]
  },
  {
   "cell_type": "code",
   "execution_count": 1,
   "id": "7f803c13-765e-4376-b975-9ce0f3370309",
   "metadata": {},
   "outputs": [],
   "source": [
    "def LM(J,info,residual,lamb):\n",
    "    b = -jnp.matmul(jnp.matmul((J.T),(info)),jnp.array(residual))\n",
    "    H = jnp.matmul(jnp.matmul((J.T),(info)),J)\n",
    "    H = H + lamb * jnp.eye(H.shape[0])\n",
    "    deltaX = jnp.matmul(jnp.linalg.pinv(H),b)\n",
    "    return deltaX"
   ]
  },
  {
   "cell_type": "code",
   "execution_count": null,
   "id": "265673a8-f624-418b-b11b-8ad6930a3aef",
   "metadata": {},
   "outputs": [],
   "source": []
  },
  {
   "cell_type": "code",
   "execution_count": null,
   "id": "e660302b-df38-4a74-bace-1a965faeb37f",
   "metadata": {},
   "outputs": [],
   "source": [
    "LM(jac(ini"
   ]
  }
 ],
 "metadata": {
  "kernelspec": {
   "display_name": "Python 3 (ipykernel)",
   "language": "python",
   "name": "python3"
  },
  "language_info": {
   "codemirror_mode": {
    "name": "ipython",
    "version": 3
   },
   "file_extension": ".py",
   "mimetype": "text/x-python",
   "name": "python",
   "nbconvert_exporter": "python",
   "pygments_lexer": "ipython3",
   "version": "3.8.12"
  }
 },
 "nbformat": 4,
 "nbformat_minor": 5
}
