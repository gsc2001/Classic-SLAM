{
 "cells": [
  {
   "cell_type": "markdown",
   "id": "hybrid-process",
   "metadata": {},
   "source": [
    "# Installing and using JAX\n",
    "\n",
    "JAX is an auto-differentiation library for native Python and Numpy code which does gradient-based optimization. Auto-differentiation forms the backbone of deep learning libraries like PyTorch.\n",
    "\n",
    "Activate your standard environment from Assignment-3. Then   \n",
    "```\n",
    "pip install --upgrade pip     \n",
    "pip install --upgrade jax jaxlib \n",
    "```\n",
    "\n",
    "[See this](https://github.com/google/jax#installation) for more information. (CPU version should be enough for this project.)"
   ]
  },
  {
   "cell_type": "code",
   "execution_count": 4,
   "id": "piano-crowd",
   "metadata": {
    "scrolled": true
   },
   "outputs": [],
   "source": [
    "import jax.numpy as jnp\n",
    "\"\"\"\n",
    "Use \"jnp\" instead of using \"np\", our favourite numpy library. \n",
    "All functions work as it is (at least that are required for this project).\n",
    "Be careful though:\n",
    "\n",
    "JAX works on python functions that are \"functionally pure\": \n",
    "For the sake of our project, that just means using array datatype everywhere \n",
    "(or 'jnp.array()' in particular) instead of using other datatype, say lists for\n",
    "storing arrays or matrices. Whenever you face some datatype issue with jax, \n",
    "first try to convert it to jax numpy array using `jnp.array()`.\n",
    "\n",
    "Tip: jnp's errors don't seem very readable as compared to np.\n",
    "So use \"np\" first for most of the code and the moment the necessity for \"jnp\" starts, \n",
    "replace all np's with jnp's. Directly replacing should work fine. This is only a tip for easier \n",
    "debugging.\n",
    "\"\"\"\n",
    "from jax import jacfwd"
   ]
  },
  {
   "cell_type": "code",
   "execution_count": 6,
   "id": "sunrise-stopping",
   "metadata": {},
   "outputs": [
    {
     "data": {
      "text/plain": [
       "DeviceArray([[ 0.07388726,  0.1591418 ,  0.10940997],\n",
       "             [ 0.20861849, -0.2560318 ,  0.03555997],\n",
       "             [ 0.12171669,  0.01404423, -0.30429173],\n",
       "             [ 0.17407255, -0.58573055,  0.3269741 ]], dtype=float32)"
      ]
     },
     "execution_count": 6,
     "metadata": {},
     "output_type": "execute_result"
    }
   ],
   "source": [
    "# Define some simple function.\n",
    "def sigmoid(x):\n",
    "    return 0.5 * (jnp.tanh(x / 2) + 1)\n",
    "\n",
    "# Note that here, I want a derivative of a \"vector\" output function (inputs*a + b is a vector) wrt a input \n",
    "# \"vector\" a at a0: Derivative of vector wrt another vector is a matrix: The Jacobian\n",
    "def simpleJ(a, b, inputs): #inputs is a matrix, a & b are vectors\n",
    "    return sigmoid(jnp.dot(inputs, a) + b)\n",
    "\n",
    "inputs = jnp.array([[0.52, 1.12,  0.77],\n",
    "                   [0.88, -1.08, 0.15],\n",
    "                   [0.52, 0.06, -1.30],\n",
    "                   [0.74, -2.49, 1.39]])\n",
    "\n",
    "b = jnp.array([0.2, 0.1, 0.3, 0.2])\n",
    "a0 = jnp.array([0.1,0.7,0.7])\n",
    "\n",
    "# Isolate the function: variables to be differentiated from the constant parameters\n",
    "f = lambda a: simpleJ(a, b, inputs) # Now f is just a function of variable to be differentiated\n",
    "\n",
    "J = jacfwd(f)\n",
    "# Till now I have only calculated the derivative, it still needs to be evaluated at a0.\n",
    "J(a0)"
   ]
  },
  {
   "cell_type": "code",
   "execution_count": 2,
   "id": "3f93a621-d36f-4f14-8986-161f9e85f49f",
   "metadata": {},
   "outputs": [
    {
     "name": "stdout",
     "output_type": "stream",
     "text": [
      "Requirement already satisfied: pip in /home/gsc2001/miniconda3/envs/robotics/lib/python3.8/site-packages (21.2.4)\n",
      "Collecting pip\n",
      "  Downloading pip-21.3.1-py3-none-any.whl (1.7 MB)\n",
      "\u001b[K     |████████████████████████████████| 1.7 MB 1.1 MB/s eta 0:00:01\n",
      "\u001b[?25hInstalling collected packages: pip\n",
      "  Attempting uninstall: pip\n",
      "    Found existing installation: pip 21.2.4\n",
      "    Uninstalling pip-21.2.4:\n",
      "      Successfully uninstalled pip-21.2.4\n",
      "Successfully installed pip-21.3.1\n"
     ]
    }
   ],
   "source": [
    "!pip install --upgrade pip"
   ]
  },
  {
   "cell_type": "code",
   "execution_count": 3,
   "id": "d3058734-0a0a-48cb-9e47-54290caf60f4",
   "metadata": {},
   "outputs": [
    {
     "name": "stdout",
     "output_type": "stream",
     "text": [
      "Collecting jax\n",
      "  Downloading jax-0.2.24.tar.gz (786 kB)\n",
      "     |████████████████████████████████| 786 kB 1.2 MB/s            \n",
      "\u001b[?25h  Preparing metadata (setup.py) ... \u001b[?25ldone\n",
      "\u001b[?25hCollecting jaxlib\n",
      "  Downloading jaxlib-0.1.73-cp38-none-manylinux2010_x86_64.whl (50.0 MB)\n",
      "     |████████████████████████████████| 50.0 MB 12 kB/s              \n",
      "\u001b[?25hCollecting absl-py\n",
      "  Downloading absl_py-0.15.0-py3-none-any.whl (132 kB)\n",
      "     |████████████████████████████████| 132 kB 34.8 MB/s            \n",
      "\u001b[?25hRequirement already satisfied: numpy>=1.18 in /home/gsc2001/miniconda3/envs/robotics/lib/python3.8/site-packages (from jax) (1.20.3)\n",
      "Collecting opt_einsum\n",
      "  Downloading opt_einsum-3.3.0-py3-none-any.whl (65 kB)\n",
      "     |████████████████████████████████| 65 kB 573 kB/s             \n",
      "\u001b[?25hRequirement already satisfied: scipy>=1.2.1 in /home/gsc2001/miniconda3/envs/robotics/lib/python3.8/site-packages (from jax) (1.7.1)\n",
      "Collecting typing_extensions\n",
      "  Downloading typing_extensions-3.10.0.2-py3-none-any.whl (26 kB)\n",
      "Collecting flatbuffers<3.0,>=1.12\n",
      "  Downloading flatbuffers-2.0-py2.py3-none-any.whl (26 kB)\n",
      "Requirement already satisfied: six in /home/gsc2001/miniconda3/envs/robotics/lib/python3.8/site-packages (from absl-py->jax) (1.16.0)\n",
      "Building wheels for collected packages: jax\n",
      "  Building wheel for jax (setup.py) ... \u001b[?25ldone\n",
      "\u001b[?25h  Created wheel for jax: filename=jax-0.2.24-py3-none-any.whl size=903112 sha256=70c1d4729aa1743404b4cc0eb65de50a8e655c49ecc5c785441546fc0aca48e2\n",
      "  Stored in directory: /home/gsc2001/.cache/pip/wheels/3c/89/03/176edf4de0f2d941ad9cd5343bd698e3ba50be1479814671c9\n",
      "Successfully built jax\n",
      "Installing collected packages: typing-extensions, opt-einsum, flatbuffers, absl-py, jaxlib, jax\n",
      "Successfully installed absl-py-0.15.0 flatbuffers-2.0 jax-0.2.24 jaxlib-0.1.73 opt-einsum-3.3.0 typing-extensions-3.10.0.2\n"
     ]
    }
   ],
   "source": [
    "!pip install --upgrade jax jaxlib"
   ]
  },
  {
   "cell_type": "code",
   "execution_count": null,
   "id": "9168b89e-cfca-40c1-8baa-aba8167777d4",
   "metadata": {},
   "outputs": [],
   "source": []
  }
 ],
 "metadata": {
  "kernelspec": {
   "display_name": "Python 3 (ipykernel)",
   "language": "python",
   "name": "python3"
  },
  "language_info": {
   "codemirror_mode": {
    "name": "ipython",
    "version": 3
   },
   "file_extension": ".py",
   "mimetype": "text/x-python",
   "name": "python",
   "nbconvert_exporter": "python",
   "pygments_lexer": "ipython3",
   "version": "3.8.12"
  }
 },
 "nbformat": 4,
 "nbformat_minor": 5
}
